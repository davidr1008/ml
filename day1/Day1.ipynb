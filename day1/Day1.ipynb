{
  "nbformat": 4,
  "nbformat_minor": 0,
  "metadata": {
    "colab": {
      "name": "Day1.ipynb",
      "provenance": [],
      "collapsed_sections": [],
      "authorship_tag": "ABX9TyMgbr3YXWPkYgkZvC48JmBK",
      "include_colab_link": true
    },
    "kernelspec": {
      "name": "python3",
      "display_name": "Python 3"
    },
    "language_info": {
      "name": "python"
    }
  },
  "cells": [
    {
      "cell_type": "markdown",
      "metadata": {
        "id": "view-in-github",
        "colab_type": "text"
      },
      "source": [
        "<a href=\"https://colab.research.google.com/github/davidr1008/Day1/blob/main/Day1.ipynb\" target=\"_parent\"><img src=\"https://colab.research.google.com/assets/colab-badge.svg\" alt=\"Open In Colab\"/></a>"
      ]
    },
    {
      "cell_type": "code",
      "metadata": {
        "id": "vj2tN3LM0LtX"
      },
      "source": [
        ""
      ],
      "execution_count": null,
      "outputs": []
    },
    {
      "cell_type": "markdown",
      "metadata": {
        "id": "DINmZfEO4SNH"
      },
      "source": [
        "Implementing Numpy using Python Programming \n",
        " "
      ]
    },
    {
      "cell_type": "code",
      "metadata": {
        "colab": {
          "base_uri": "https://localhost:8080/"
        },
        "id": "NDgAh4UR4wA8",
        "outputId": "076fd1f8-3661-444f-a351-5ad30fa2d7cd"
      },
      "source": [
        "#Importing Libraries\n",
        "import numpy as np\n",
        "a = [1,2,3,4] #list\n",
        "arr1 = np.array(a)\n",
        "print(arr1)\n",
        "b = [[1,2,3,4],[5,6,7,8]] #list2\n",
        "arr2 = np.array(b)\n",
        "print(arr2)"
      ],
      "execution_count": 1,
      "outputs": [
        {
          "output_type": "stream",
          "text": [
            "[1 2 3 4]\n",
            "[[1 2 3 4]\n",
            " [5 6 7 8]]\n"
          ],
          "name": "stdout"
        }
      ]
    },
    {
      "cell_type": "code",
      "metadata": {
        "colab": {
          "base_uri": "https://localhost:8080/"
        },
        "id": "76mYBG2x5SJF",
        "outputId": "cc0b28fc-764e-42c8-922d-2093ef1830a1"
      },
      "source": [
        "import numpy as np\n",
        "import sys\n",
        "\n",
        "s = np.arange(10000)\n",
        "print(\"Size of each element of numpy array in bytes\",s.itemsize)\n",
        "print(\"Size of whole array in bytes:\",s.size*s.itemsize)"
      ],
      "execution_count": 2,
      "outputs": [
        {
          "output_type": "stream",
          "text": [
            "Size of each element of numpy array in bytes 8\n",
            "Size of whole array in bytes: 80000\n"
          ],
          "name": "stdout"
        }
      ]
    },
    {
      "cell_type": "code",
      "metadata": {
        "colab": {
          "base_uri": "https://localhost:8080/"
        },
        "id": "P3_3B1TM5X8p",
        "outputId": "b3b7fc17-0adf-4e52-c8a9-24b54ae0b349"
      },
      "source": [
        "import numpy as np\n",
        "import time\n",
        "\n",
        "a = np.arange(10000)\n",
        "b = np.arange(10000)\n",
        "\n",
        "start =time.time() #mark the start time\n",
        "\n",
        "ab = [(a*b) for a,b in zip(a,b)]\n",
        "end =time.time() #mark the end time\n",
        "print(\"Total time taken:\", end - start)"
      ],
      "execution_count": 3,
      "outputs": [
        {
          "output_type": "stream",
          "text": [
            "Total time taken: 0.007393598556518555\n"
          ],
          "name": "stdout"
        }
      ]
    },
    {
      "cell_type": "code",
      "metadata": {
        "colab": {
          "base_uri": "https://localhost:8080/"
        },
        "id": "JvAgH64l5ckc",
        "outputId": "eb5ea4bd-2cd1-41ca-fa9d-d0fb88fd6119"
      },
      "source": [
        "import numpy as np\n",
        "arr3 = np.array([[1,2,3,4],[5,6,7,8]],ndmin =2) #2D np array\n",
        "print(arr3)\n"
      ],
      "execution_count": 4,
      "outputs": [
        {
          "output_type": "stream",
          "text": [
            "[[1 2 3 4]\n",
            " [5 6 7 8]]\n"
          ],
          "name": "stdout"
        }
      ]
    },
    {
      "cell_type": "code",
      "metadata": {
        "colab": {
          "base_uri": "https://localhost:8080/"
        },
        "id": "Zvk1LhoR5gnm",
        "outputId": "4a166937-cf37-4af1-f521-eb412320c303"
      },
      "source": [
        "arr4 = np.array([[1,2,3,4],[5,6,7,8]])\n",
        "print(arr4.dtype)\n",
        "print(arr4.ndim)\n",
        "print(arr4.shape)\n",
        "print(arr4.size)"
      ],
      "execution_count": 5,
      "outputs": [
        {
          "output_type": "stream",
          "text": [
            "int64\n",
            "2\n",
            "(2, 4)\n",
            "8\n"
          ],
          "name": "stdout"
        }
      ]
    },
    {
      "cell_type": "code",
      "metadata": {
        "colab": {
          "base_uri": "https://localhost:8080/"
        },
        "id": "dub3YAcN5jqp",
        "outputId": "877a30c9-30fc-4206-8b29-db9947e28212"
      },
      "source": [
        "\n",
        "zero1 = np.zeros((2,2))\n",
        "print(zero1)\n"
      ],
      "execution_count": 6,
      "outputs": [
        {
          "output_type": "stream",
          "text": [
            "[[0. 0.]\n",
            " [0. 0.]]\n"
          ],
          "name": "stdout"
        }
      ]
    },
    {
      "cell_type": "code",
      "metadata": {
        "colab": {
          "base_uri": "https://localhost:8080/"
        },
        "id": "4VjgJm3y5rwn",
        "outputId": "50b9f90f-d7e7-4011-84fa-131f86dbd841"
      },
      "source": [
        "c = np.arange(3,10,2)\n",
        "print(type(c))"
      ],
      "execution_count": 7,
      "outputs": [
        {
          "output_type": "stream",
          "text": [
            "<class 'numpy.ndarray'>\n"
          ],
          "name": "stdout"
        }
      ]
    },
    {
      "cell_type": "code",
      "metadata": {
        "colab": {
          "base_uri": "https://localhost:8080/"
        },
        "id": "eiTI-oNL5t-8",
        "outputId": "4cdf6341-a0d5-4f54-f15b-2dce908382a2"
      },
      "source": [
        "a = [1,2,3,4,5] \n",
        "b = np.array(a)\n",
        "print(b)"
      ],
      "execution_count": 8,
      "outputs": [
        {
          "output_type": "stream",
          "text": [
            "[1 2 3 4 5]\n"
          ],
          "name": "stdout"
        }
      ]
    },
    {
      "cell_type": "code",
      "metadata": {
        "colab": {
          "base_uri": "https://localhost:8080/"
        },
        "id": "nV4US2s45x-B",
        "outputId": "e780ff9f-03bd-4e16-d41e-93e10f14c95b"
      },
      "source": [
        "b[2]\n",
        "b[4]"
      ],
      "execution_count": 9,
      "outputs": [
        {
          "output_type": "execute_result",
          "data": {
            "text/plain": [
              "5"
            ]
          },
          "metadata": {
            "tags": []
          },
          "execution_count": 9
        }
      ]
    },
    {
      "cell_type": "code",
      "metadata": {
        "colab": {
          "base_uri": "https://localhost:8080/"
        },
        "id": "_QrVZvj051Ez",
        "outputId": "85498e86-f4b7-4002-e2b7-334f563c3d9c"
      },
      "source": [
        "b[-3]"
      ],
      "execution_count": 10,
      "outputs": [
        {
          "output_type": "execute_result",
          "data": {
            "text/plain": [
              "3"
            ]
          },
          "metadata": {
            "tags": []
          },
          "execution_count": 10
        }
      ]
    },
    {
      "cell_type": "code",
      "metadata": {
        "colab": {
          "base_uri": "https://localhost:8080/"
        },
        "id": "77_wqkQK541b",
        "outputId": "352a1dd8-0c50-47de-f421-5f8a5dc8829b"
      },
      "source": [
        "b[0:2]"
      ],
      "execution_count": 11,
      "outputs": [
        {
          "output_type": "execute_result",
          "data": {
            "text/plain": [
              "array([1, 2])"
            ]
          },
          "metadata": {
            "tags": []
          },
          "execution_count": 11
        }
      ]
    },
    {
      "cell_type": "code",
      "metadata": {
        "colab": {
          "base_uri": "https://localhost:8080/"
        },
        "id": "nDOntcb856Ty",
        "outputId": "721311e9-6ae1-4d04-c1cd-8db5cb9ade3e"
      },
      "source": [
        "b[0:4]"
      ],
      "execution_count": 12,
      "outputs": [
        {
          "output_type": "execute_result",
          "data": {
            "text/plain": [
              "array([1, 2, 3, 4])"
            ]
          },
          "metadata": {
            "tags": []
          },
          "execution_count": 12
        }
      ]
    },
    {
      "cell_type": "code",
      "metadata": {
        "colab": {
          "base_uri": "https://localhost:8080/"
        },
        "id": "V6D6mUMN5-94",
        "outputId": "0c4be0f3-0bb2-4c2d-8377-b74fd9f35381"
      },
      "source": [
        "b[2]"
      ],
      "execution_count": 13,
      "outputs": [
        {
          "output_type": "execute_result",
          "data": {
            "text/plain": [
              "3"
            ]
          },
          "metadata": {
            "tags": []
          },
          "execution_count": 13
        }
      ]
    },
    {
      "cell_type": "code",
      "metadata": {
        "colab": {
          "base_uri": "https://localhost:8080/"
        },
        "id": "rH_CA2VV6GgZ",
        "outputId": "650060ac-0fb3-4c95-b24b-716b0334eefc"
      },
      "source": [
        "print(b)"
      ],
      "execution_count": 14,
      "outputs": [
        {
          "output_type": "stream",
          "text": [
            "[1 2 3 4 5]\n"
          ],
          "name": "stdout"
        }
      ]
    },
    {
      "cell_type": "code",
      "metadata": {
        "colab": {
          "base_uri": "https://localhost:8080/"
        },
        "id": "-nj9JIsh6MY1",
        "outputId": "ecd575c7-ab4f-45e1-e6b9-6545fce0b326"
      },
      "source": [
        "print(b[3, ])"
      ],
      "execution_count": 15,
      "outputs": [
        {
          "output_type": "stream",
          "text": [
            "4\n"
          ],
          "name": "stdout"
        }
      ]
    },
    {
      "cell_type": "code",
      "metadata": {
        "colab": {
          "base_uri": "https://localhost:8080/"
        },
        "id": "YXqWUBUw6Pr-",
        "outputId": "1d4b83a9-a25d-43aa-e885-92f4d810356e"
      },
      "source": [
        "print(b[3: ])\n"
      ],
      "execution_count": 16,
      "outputs": [
        {
          "output_type": "stream",
          "text": [
            "[4 5]\n"
          ],
          "name": "stdout"
        }
      ]
    },
    {
      "cell_type": "code",
      "metadata": {
        "colab": {
          "base_uri": "https://localhost:8080/"
        },
        "id": "CIpHu2XS6WiQ",
        "outputId": "0d4f3e6f-3c36-44f7-b67e-89e7476218b0"
      },
      "source": [
        "print(b[5: ])"
      ],
      "execution_count": 17,
      "outputs": [
        {
          "output_type": "stream",
          "text": [
            "[]\n"
          ],
          "name": "stdout"
        }
      ]
    },
    {
      "cell_type": "code",
      "metadata": {
        "colab": {
          "base_uri": "https://localhost:8080/"
        },
        "id": "IaCxL1tL6ZPT",
        "outputId": "82f1a470-2a69-4808-dc8f-03f53d940187"
      },
      "source": [
        "print(b[:4])"
      ],
      "execution_count": 18,
      "outputs": [
        {
          "output_type": "stream",
          "text": [
            "[1 2 3 4]\n"
          ],
          "name": "stdout"
        }
      ]
    },
    {
      "cell_type": "code",
      "metadata": {
        "colab": {
          "base_uri": "https://localhost:8080/"
        },
        "id": "GQ2waNar6eN6",
        "outputId": "442414e6-cd10-44c0-977c-e4dce0baaf54"
      },
      "source": [
        "c = np.array([[1,2,3,4,5],[6,7,8,9,10]])\n",
        "c"
      ],
      "execution_count": 19,
      "outputs": [
        {
          "output_type": "execute_result",
          "data": {
            "text/plain": [
              "array([[ 1,  2,  3,  4,  5],\n",
              "       [ 6,  7,  8,  9, 10]])"
            ]
          },
          "metadata": {
            "tags": []
          },
          "execution_count": 19
        }
      ]
    },
    {
      "cell_type": "code",
      "metadata": {
        "colab": {
          "base_uri": "https://localhost:8080/"
        },
        "id": "XhdxMfxT6h6s",
        "outputId": "295d3e07-2832-439b-8dd8-6852a56ac451"
      },
      "source": [
        "print(c[0])"
      ],
      "execution_count": 20,
      "outputs": [
        {
          "output_type": "stream",
          "text": [
            "[1 2 3 4 5]\n"
          ],
          "name": "stdout"
        }
      ]
    },
    {
      "cell_type": "code",
      "metadata": {
        "colab": {
          "base_uri": "https://localhost:8080/"
        },
        "id": "bYJT2c7j6kEX",
        "outputId": "6c89aa8d-e41b-4458-ed92-93c058655c14"
      },
      "source": [
        "print(c[0][3])"
      ],
      "execution_count": 21,
      "outputs": [
        {
          "output_type": "stream",
          "text": [
            "4\n"
          ],
          "name": "stdout"
        }
      ]
    },
    {
      "cell_type": "markdown",
      "metadata": {
        "id": "pdhZbmXx6r0n"
      },
      "source": [
        "Pandas Library Implementation \n"
      ]
    },
    {
      "cell_type": "code",
      "metadata": {
        "id": "sbkeY2Hw9416"
      },
      "source": [
        "#pandas is used for handling data and dataset \n",
        "import pandas as pd\n",
        "dataset = pd.read_csv(\"/content/student details.csv\")"
      ],
      "execution_count": 24,
      "outputs": []
    },
    {
      "cell_type": "code",
      "metadata": {
        "colab": {
          "base_uri": "https://localhost:8080/",
          "height": 204
        },
        "id": "GOmc3Tt2-foC",
        "outputId": "940d33ca-6d43-4994-ef61-5ef9b4332b35"
      },
      "source": [
        "dataset.head(5)\n"
      ],
      "execution_count": 25,
      "outputs": [
        {
          "output_type": "execute_result",
          "data": {
            "text/html": [
              "<div>\n",
              "<style scoped>\n",
              "    .dataframe tbody tr th:only-of-type {\n",
              "        vertical-align: middle;\n",
              "    }\n",
              "\n",
              "    .dataframe tbody tr th {\n",
              "        vertical-align: top;\n",
              "    }\n",
              "\n",
              "    .dataframe thead th {\n",
              "        text-align: right;\n",
              "    }\n",
              "</style>\n",
              "<table border=\"1\" class=\"dataframe\">\n",
              "  <thead>\n",
              "    <tr style=\"text-align: right;\">\n",
              "      <th></th>\n",
              "      <th>ID</th>\n",
              "      <th>Name</th>\n",
              "      <th>Year</th>\n",
              "      <th>Department</th>\n",
              "      <th>Section</th>\n",
              "    </tr>\n",
              "  </thead>\n",
              "  <tbody>\n",
              "    <tr>\n",
              "      <th>0</th>\n",
              "      <td>1</td>\n",
              "      <td>Phil</td>\n",
              "      <td>4th</td>\n",
              "      <td>AERO</td>\n",
              "      <td>A</td>\n",
              "    </tr>\n",
              "    <tr>\n",
              "      <th>1</th>\n",
              "      <td>2</td>\n",
              "      <td>Stu</td>\n",
              "      <td>1st</td>\n",
              "      <td>IT</td>\n",
              "      <td>A</td>\n",
              "    </tr>\n",
              "    <tr>\n",
              "      <th>2</th>\n",
              "      <td>3</td>\n",
              "      <td>Dou</td>\n",
              "      <td>2nd</td>\n",
              "      <td>CSE</td>\n",
              "      <td>B</td>\n",
              "    </tr>\n",
              "    <tr>\n",
              "      <th>3</th>\n",
              "      <td>4</td>\n",
              "      <td>Alan</td>\n",
              "      <td>5th</td>\n",
              "      <td>MECH</td>\n",
              "      <td>B</td>\n",
              "    </tr>\n",
              "    <tr>\n",
              "      <th>4</th>\n",
              "      <td>5</td>\n",
              "      <td>Chow</td>\n",
              "      <td>1st</td>\n",
              "      <td>CIVIL</td>\n",
              "      <td>C</td>\n",
              "    </tr>\n",
              "  </tbody>\n",
              "</table>\n",
              "</div>"
            ],
            "text/plain": [
              "   ID  Name Year Department Section\n",
              "0   1  Phil  4th       AERO       A\n",
              "1   2   Stu  1st         IT       A\n",
              "2   3   Dou  2nd        CSE       B\n",
              "3   4  Alan  5th       MECH       B\n",
              "4   5  Chow  1st      CIVIL       C"
            ]
          },
          "metadata": {
            "tags": []
          },
          "execution_count": 25
        }
      ]
    },
    {
      "cell_type": "code",
      "metadata": {
        "colab": {
          "base_uri": "https://localhost:8080/",
          "height": 142
        },
        "id": "24H-j0mD-kiC",
        "outputId": "8b71adff-1405-497b-884b-2d6a94f950f5"
      },
      "source": [
        "dataset.tail(3)"
      ],
      "execution_count": 26,
      "outputs": [
        {
          "output_type": "execute_result",
          "data": {
            "text/html": [
              "<div>\n",
              "<style scoped>\n",
              "    .dataframe tbody tr th:only-of-type {\n",
              "        vertical-align: middle;\n",
              "    }\n",
              "\n",
              "    .dataframe tbody tr th {\n",
              "        vertical-align: top;\n",
              "    }\n",
              "\n",
              "    .dataframe thead th {\n",
              "        text-align: right;\n",
              "    }\n",
              "</style>\n",
              "<table border=\"1\" class=\"dataframe\">\n",
              "  <thead>\n",
              "    <tr style=\"text-align: right;\">\n",
              "      <th></th>\n",
              "      <th>ID</th>\n",
              "      <th>Name</th>\n",
              "      <th>Year</th>\n",
              "      <th>Department</th>\n",
              "      <th>Section</th>\n",
              "    </tr>\n",
              "  </thead>\n",
              "  <tbody>\n",
              "    <tr>\n",
              "      <th>2</th>\n",
              "      <td>3</td>\n",
              "      <td>Dou</td>\n",
              "      <td>2nd</td>\n",
              "      <td>CSE</td>\n",
              "      <td>B</td>\n",
              "    </tr>\n",
              "    <tr>\n",
              "      <th>3</th>\n",
              "      <td>4</td>\n",
              "      <td>Alan</td>\n",
              "      <td>5th</td>\n",
              "      <td>MECH</td>\n",
              "      <td>B</td>\n",
              "    </tr>\n",
              "    <tr>\n",
              "      <th>4</th>\n",
              "      <td>5</td>\n",
              "      <td>Chow</td>\n",
              "      <td>1st</td>\n",
              "      <td>CIVIL</td>\n",
              "      <td>C</td>\n",
              "    </tr>\n",
              "  </tbody>\n",
              "</table>\n",
              "</div>"
            ],
            "text/plain": [
              "   ID  Name Year Department Section\n",
              "2   3   Dou  2nd        CSE       B\n",
              "3   4  Alan  5th       MECH       B\n",
              "4   5  Chow  1st      CIVIL       C"
            ]
          },
          "metadata": {
            "tags": []
          },
          "execution_count": 26
        }
      ]
    },
    {
      "cell_type": "code",
      "metadata": {
        "colab": {
          "base_uri": "https://localhost:8080/"
        },
        "id": "yLN3lWmU-mAn",
        "outputId": "c819e0ea-4635-4025-de6d-b5e085dfd515"
      },
      "source": [
        "dataset.shape"
      ],
      "execution_count": 27,
      "outputs": [
        {
          "output_type": "execute_result",
          "data": {
            "text/plain": [
              "(5, 5)"
            ]
          },
          "metadata": {
            "tags": []
          },
          "execution_count": 27
        }
      ]
    },
    {
      "cell_type": "code",
      "metadata": {
        "colab": {
          "base_uri": "https://localhost:8080/"
        },
        "id": "v7mOa17l-nwm",
        "outputId": "a8324c9d-b5fa-4cc3-b539-41b53b618b68"
      },
      "source": [
        "dataset.info()"
      ],
      "execution_count": 28,
      "outputs": [
        {
          "output_type": "stream",
          "text": [
            "<class 'pandas.core.frame.DataFrame'>\n",
            "RangeIndex: 5 entries, 0 to 4\n",
            "Data columns (total 5 columns):\n",
            " #   Column      Non-Null Count  Dtype \n",
            "---  ------      --------------  ----- \n",
            " 0   ID          5 non-null      int64 \n",
            " 1   Name        5 non-null      object\n",
            " 2   Year        5 non-null      object\n",
            " 3   Department  5 non-null      object\n",
            " 4   Section     5 non-null      object\n",
            "dtypes: int64(1), object(4)\n",
            "memory usage: 328.0+ bytes\n"
          ],
          "name": "stdout"
        }
      ]
    },
    {
      "cell_type": "code",
      "metadata": {
        "colab": {
          "base_uri": "https://localhost:8080/",
          "height": 204
        },
        "id": "C3K_wHbA-uvY",
        "outputId": "6cf389a3-b89e-48be-b853-7e20dc41c3e8"
      },
      "source": [
        "dataset1 = pd.read_html(\"https://en.wikipedia.org/wiki/Data_science\")[0] \n",
        "dataset1.head()\n"
      ],
      "execution_count": 29,
      "outputs": [
        {
          "output_type": "execute_result",
          "data": {
            "text/html": [
              "<div>\n",
              "<style scoped>\n",
              "    .dataframe tbody tr th:only-of-type {\n",
              "        vertical-align: middle;\n",
              "    }\n",
              "\n",
              "    .dataframe tbody tr th {\n",
              "        vertical-align: top;\n",
              "    }\n",
              "\n",
              "    .dataframe thead th {\n",
              "        text-align: right;\n",
              "    }\n",
              "</style>\n",
              "<table border=\"1\" class=\"dataframe\">\n",
              "  <thead>\n",
              "    <tr style=\"text-align: right;\">\n",
              "      <th></th>\n",
              "      <th>0</th>\n",
              "    </tr>\n",
              "  </thead>\n",
              "  <tbody>\n",
              "    <tr>\n",
              "      <th>0</th>\n",
              "      <td>Part of a series on</td>\n",
              "    </tr>\n",
              "    <tr>\n",
              "      <th>1</th>\n",
              "      <td>Machine learningand data mining</td>\n",
              "    </tr>\n",
              "    <tr>\n",
              "      <th>2</th>\n",
              "      <td>Problems Classification Clustering Regression ...</td>\n",
              "    </tr>\n",
              "    <tr>\n",
              "      <th>3</th>\n",
              "      <td>Supervised learning.mw-parser-output .nobold{f...</td>\n",
              "    </tr>\n",
              "    <tr>\n",
              "      <th>4</th>\n",
              "      <td>Clustering BIRCH CURE Hierarchical k-means Exp...</td>\n",
              "    </tr>\n",
              "  </tbody>\n",
              "</table>\n",
              "</div>"
            ],
            "text/plain": [
              "                                                   0\n",
              "0                                Part of a series on\n",
              "1                    Machine learningand data mining\n",
              "2  Problems Classification Clustering Regression ...\n",
              "3  Supervised learning.mw-parser-output .nobold{f...\n",
              "4  Clustering BIRCH CURE Hierarchical k-means Exp..."
            ]
          },
          "metadata": {
            "tags": []
          },
          "execution_count": 29
        }
      ]
    },
    {
      "cell_type": "code",
      "metadata": {
        "colab": {
          "base_uri": "https://localhost:8080/"
        },
        "id": "Vft9vQfy-xKI",
        "outputId": "adacd6dc-a4b3-45ed-fef1-68555a18c16f"
      },
      "source": [
        "dataset.ID"
      ],
      "execution_count": 30,
      "outputs": [
        {
          "output_type": "execute_result",
          "data": {
            "text/plain": [
              "0    1\n",
              "1    2\n",
              "2    3\n",
              "3    4\n",
              "4    5\n",
              "Name: ID, dtype: int64"
            ]
          },
          "metadata": {
            "tags": []
          },
          "execution_count": 30
        }
      ]
    },
    {
      "cell_type": "code",
      "metadata": {
        "colab": {
          "base_uri": "https://localhost:8080/"
        },
        "id": "KPskTmOm-1XC",
        "outputId": "73eceac0-e4b8-4f0e-8d63-4b3a5b59f9e9"
      },
      "source": [
        "dataset.Name"
      ],
      "execution_count": 31,
      "outputs": [
        {
          "output_type": "execute_result",
          "data": {
            "text/plain": [
              "0    Phil\n",
              "1     Stu\n",
              "2     Dou\n",
              "3    Alan\n",
              "4    Chow\n",
              "Name: Name, dtype: object"
            ]
          },
          "metadata": {
            "tags": []
          },
          "execution_count": 31
        }
      ]
    },
    {
      "cell_type": "code",
      "metadata": {
        "colab": {
          "base_uri": "https://localhost:8080/",
          "height": 204
        },
        "id": "kQzpihv5-6Iz",
        "outputId": "ab5bb40c-031f-449f-c4bb-82faf6140287"
      },
      "source": [
        "dataset[['ID', 'Name', 'Department']]"
      ],
      "execution_count": 33,
      "outputs": [
        {
          "output_type": "execute_result",
          "data": {
            "text/html": [
              "<div>\n",
              "<style scoped>\n",
              "    .dataframe tbody tr th:only-of-type {\n",
              "        vertical-align: middle;\n",
              "    }\n",
              "\n",
              "    .dataframe tbody tr th {\n",
              "        vertical-align: top;\n",
              "    }\n",
              "\n",
              "    .dataframe thead th {\n",
              "        text-align: right;\n",
              "    }\n",
              "</style>\n",
              "<table border=\"1\" class=\"dataframe\">\n",
              "  <thead>\n",
              "    <tr style=\"text-align: right;\">\n",
              "      <th></th>\n",
              "      <th>ID</th>\n",
              "      <th>Name</th>\n",
              "      <th>Department</th>\n",
              "    </tr>\n",
              "  </thead>\n",
              "  <tbody>\n",
              "    <tr>\n",
              "      <th>0</th>\n",
              "      <td>1</td>\n",
              "      <td>Phil</td>\n",
              "      <td>AERO</td>\n",
              "    </tr>\n",
              "    <tr>\n",
              "      <th>1</th>\n",
              "      <td>2</td>\n",
              "      <td>Stu</td>\n",
              "      <td>IT</td>\n",
              "    </tr>\n",
              "    <tr>\n",
              "      <th>2</th>\n",
              "      <td>3</td>\n",
              "      <td>Dou</td>\n",
              "      <td>CSE</td>\n",
              "    </tr>\n",
              "    <tr>\n",
              "      <th>3</th>\n",
              "      <td>4</td>\n",
              "      <td>Alan</td>\n",
              "      <td>MECH</td>\n",
              "    </tr>\n",
              "    <tr>\n",
              "      <th>4</th>\n",
              "      <td>5</td>\n",
              "      <td>Chow</td>\n",
              "      <td>CIVIL</td>\n",
              "    </tr>\n",
              "  </tbody>\n",
              "</table>\n",
              "</div>"
            ],
            "text/plain": [
              "   ID  Name Department\n",
              "0   1  Phil       AERO\n",
              "1   2   Stu         IT\n",
              "2   3   Dou        CSE\n",
              "3   4  Alan       MECH\n",
              "4   5  Chow      CIVIL"
            ]
          },
          "metadata": {
            "tags": []
          },
          "execution_count": 33
        }
      ]
    }
  ]
}